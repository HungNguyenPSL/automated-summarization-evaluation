{
  "cells": [
    {
      "cell_type": "code",
      "execution_count": null,
      "metadata": {
        "id": "OB6y-9Y6rrEZ"
      },
      "outputs": [],
      "source": [
        "!pip install datasets\n",
        "!pip install nltk\n"
      ]
    },
    {
      "cell_type": "code",
      "execution_count": null,
      "metadata": {
        "id": "K8e7TVLqrXwq"
      },
      "outputs": [],
      "source": [
        "import torch\n",
        "from datasets import load_dataset\n",
        "from transformers import pipeline\n",
        "import pandas as pd\n",
        "import numpy as np\n",
        "import tensorflow as tf\n",
        "from nltk.tokenize import sent_tokenize\n",
        "import nltk"
      ]
    },
    {
      "cell_type": "code",
      "execution_count": null,
      "metadata": {
        "id": "dw__FBG2Dd8f"
      },
      "outputs": [],
      "source": [
        "nltk.download('punkt')\n"
      ]
    },
    {
      "cell_type": "code",
      "execution_count": null,
      "metadata": {},
      "outputs": [],
      "source": [
        "import getpass\n",
        "\n",
        "hf_token = getpass.getpass('get your pass')\n",
        "\n",
        "# Save the token as a secret named HF_TOKEN, use your hugging face token to run\n",
        "%env HF_TOKEN=$hf_token"
      ]
    },
    {
      "cell_type": "code",
      "execution_count": null,
      "metadata": {
        "id": "XDugqxPm0EA1"
      },
      "outputs": [],
      "source": [
        "from transformers import AutoTokenizer\n",
        "\n",
        "checkpoint = \"t5-small\"\n",
        "tokenizer = AutoTokenizer.from_pretrained(checkpoint)\n",
        "pretrained_model = \"t5-small\""
      ]
    },
    {
      "cell_type": "code",
      "execution_count": null,
      "metadata": {
        "id": "jmm9NfGS4RBJ"
      },
      "outputs": [],
      "source": [
        "from transformers import DataCollatorForSeq2Seq\n",
        "\n",
        "data_collator = DataCollatorForSeq2Seq(tokenizer=tokenizer, model=checkpoint, return_tensors=\"tf\")"
      ]
    },
    {
      "cell_type": "code",
      "execution_count": null,
      "metadata": {
        "id": "VlEJRJoikd3C"
      },
      "outputs": [],
      "source": [
        "from transformers import TFAutoModelForSeq2SeqLM\n",
        "\n",
        "model = TFAutoModelForSeq2SeqLM.from_pretrained(checkpoint)\n",
        "model_reference=TFAutoModelForSeq2SeqLM.from_pretrained(pretrained_model)"
      ]
    },
    {
      "cell_type": "code",
      "execution_count": null,
      "metadata": {
        "id": "Y2y4Cq18HVqA"
      },
      "outputs": [],
      "source": [
        "billsum = load_dataset(\"billsum\", split=\"ca_test\")\n",
        "billsum = billsum.train_test_split(test_size=0.2)"
      ]
    },
    {
      "cell_type": "code",
      "execution_count": null,
      "metadata": {
        "id": "UUaWBX0sHDwr"
      },
      "outputs": [],
      "source": [
        "prefix = \"summarize: \"\n",
        "\n",
        "def preprocess_function(examples):\n",
        "    inputs = [prefix + doc for doc in examples[\"text\"]]\n",
        "    model_inputs = tokenizer(inputs, max_length=512, truncation=True)\n",
        "\n",
        "    labels = tokenizer(text_target=examples[\"summary\"], max_length=64, truncation=True)\n",
        "\n",
        "    model_inputs[\"labels\"] = labels[\"input_ids\"]\n",
        "    return model_inputs"
      ]
    },
    {
      "cell_type": "code",
      "execution_count": null,
      "metadata": {
        "colab": {
          "base_uri": "https://localhost:8080/",
          "height": 81,
          "referenced_widgets": [
            "3ed5deeeb1a84273a534025f8f00bca4",
            "c76691b70a374ed895b234543cb3a0bf",
            "b349e925748246879563ae5020dc0fcb",
            "61d27d7f82e64520a4fb173312b18bc4",
            "f35e7b3d90794eaf80625dc9af5bef03",
            "214b6be2787b4e2aaad513531f2828e3",
            "8751c3ed33ab470bb7655e03d86ab23e",
            "b08a03d82c2e48af9039d151a213d3a7",
            "b5c8566514264385a5c49c0d3f526da0",
            "98e67bff6a54475aba6f858ad03add52",
            "4f887bf9eded4ec9828ffa042813718e",
            "b69f5aadcc00450cbe87a20a10661941",
            "1eeced28c47c4f78acc80488383f118a",
            "86f81bfa761744769f93929ba24c42f3",
            "1b6c8817b2724443a0e40fcb4c10b946",
            "809544afa4584e45b0588f9eb17cb1a3",
            "6089a507041147a8ac4c5d1523aea2f1",
            "173a986537de41d9a5538d400ab4b724",
            "0bcf3755f04b4c11838dd2423754c37a",
            "9d052f56951742a4a004403c7f7ad32c",
            "9ea6eb4215b9405984f1c1f14d06d093",
            "ba5a9a0bd5ca47fd91d508959bb3db18"
          ]
        },
        "id": "-oT-Jc6oHUo3",
        "outputId": "ca9fd4aa-e41c-4022-f517-7e5d33f1e084"
      },
      "outputs": [
        {
          "data": {
            "application/vnd.jupyter.widget-view+json": {
              "model_id": "3ed5deeeb1a84273a534025f8f00bca4",
              "version_major": 2,
              "version_minor": 0
            },
            "text/plain": [
              "Map:   0%|          | 0/989 [00:00<?, ? examples/s]"
            ]
          },
          "metadata": {},
          "output_type": "display_data"
        },
        {
          "data": {
            "application/vnd.jupyter.widget-view+json": {
              "model_id": "b69f5aadcc00450cbe87a20a10661941",
              "version_major": 2,
              "version_minor": 0
            },
            "text/plain": [
              "Map:   0%|          | 0/248 [00:00<?, ? examples/s]"
            ]
          },
          "metadata": {},
          "output_type": "display_data"
        }
      ],
      "source": [
        "tokenized_billsum = billsum.map(preprocess_function, batched=True)"
      ]
    },
    {
      "cell_type": "markdown",
      "metadata": {
        "id": "KZ6AdsJ_8czu"
      },
      "source": [
        "In this section, we'll have a close look to input_ids, labels,i.e, truncated docs and truncated summaries that we'll use to fine-tune the model"
      ]
    },
    {
      "cell_type": "code",
      "execution_count": null,
      "metadata": {
        "colab": {
          "base_uri": "https://localhost:8080/"
        },
        "id": "DB5Cis5qRxJ8",
        "outputId": "95d2e70e-d0ba-429b-975c-68dd0a541b53"
      },
      "outputs": [
        {
          "name": "stdout",
          "output_type": "stream",
          "text": [
            "summarize: The people of the State of California do enact as follows: SECTION 1. Section 836 of the Penal Code is amended to read: 836. (a) A peace officer may arrest a person in obedience to a warrant, warrant or, pursuant to the authority granted to him or her by Chapter 4.5 (commencing with Section 830) of Title 3 of Part 2, without a warrant, may arrest a person warrant whenever any of the following circumstances occur: (1) The officer has probable cause to believe that the person to be arrested has committed a public offense in the officer’s presence. (2) The person arrested has committed a felony, although not in the officer’s presence. (3) The officer has probable cause to believe that the person to be arrested has committed a felony, whether or not a felony, in fact, has been committed. (b) Any time a peace officer is called out on a domestic violence call, it shall be mandatory that the officer make a good faith effort to inform the victim of his or her right to make a citizen’s arrest, unless the peace officer makes an arrest for a violation of paragraph (1) of subdivision (e) of Section 243 or 273.5. This information shall include advising the victim how to safely execute the arrest. (c) (1) When a peace officer is responding to a call alleging a violation of a domestic violence protective or restraining order issued under Section 527.6 of the Code of Civil Procedure, the Family Code, Section 136.2, 646.91, or paragraph (2) of subdivision (a) of Section 1203.097 of this code, Section 213.5 or 15657.03 of the Welfare and Institutions Code, or of a domestic violence protective or restraining order issued by the court of another state, tribe, or territory and the peace officer has probable cause to believe that the person against whom the order is issued has notice of the order and has committed an act in violation of the order, the officer shall, consistent with subdivision (b) of Section 13701, make a lawful arrest of the person without a warrant and take that person into custody whether or not the violation occurred in the presence of the arresting officer. The officer shall, as soon as possible after the arrest, confirm with the appropriate authorities or the Domestic Violence Protection Order Registry maintained pursuant</s>\n"
          ]
        }
      ],
      "source": [
        "test_doc=tokenized_billsum['test'][0]['input_ids']\n",
        "print(tokenizer.decode(test_doc))"
      ]
    },
    {
      "cell_type": "code",
      "execution_count": null,
      "metadata": {
        "colab": {
          "base_uri": "https://localhost:8080/"
        },
        "id": "E40EafdCSepy",
        "outputId": "1e59f4dd-158e-4fd8-b239-a83f31e1e9c9"
      },
      "outputs": [
        {
          "name": "stdout",
          "output_type": "stream",
          "text": [
            "Existing law authorizes a peace officer to arrest a person without a warrant if the officer has probable cause to believe that the person has committed a public offense in the officer’s presence or if the officer has probable cause to believe that the person has committed a felony. This</s>\n"
          ]
        }
      ],
      "source": [
        "sum_doc=tokenized_billsum['test'][0]['labels']\n",
        "print(tokenizer.decode(sum_doc))"
      ]
    },
    {
      "cell_type": "markdown",
      "metadata": {
        "id": "YX4c2FeU9sEA"
      },
      "source": [
        "In this section, we'll try to generate a summary for the truncated text by from the pretrained model t5-small"
      ]
    },
    {
      "cell_type": "code",
      "execution_count": null,
      "metadata": {
        "id": "yxTY880Yfaqx"
      },
      "outputs": [],
      "source": [
        "def summarize_text(text, tokenizer, model):\n",
        "    inputs = tokenizer.encode(\"summarize: \" + text, return_tensors=\"pt\", max_length=512, truncation=True)\n",
        "    summary_ids = model.generate(inputs, max_length=80, min_length=40, length_penalty=2.0, num_beams=4, early_stopping=True)\n",
        "    summary = tokenizer.decode(summary_ids[0], skip_special_tokens=True)\n",
        "    return summary\n",
        "\n",
        "def summarize_dataset(dataset, tokenizer, model):\n",
        "    summaries = []\n",
        "    for text in dataset:\n",
        "        summary = summarize_text(text, tokenizer, model)\n",
        "        summaries.append(summary)\n",
        "    return summaries"
      ]
    },
    {
      "cell_type": "markdown",
      "metadata": {
        "id": "lKtnLU7iDESu"
      },
      "source": [
        "**Attention**\n",
        "\n",
        "Here, I attempt to compare the BLANC score between the truncated reference summaries and the summaries generated by a pre-trained model to determine if the chunking method truly works. However, due to the limited computational resources on my Colab, I am **unable to perform these tests**\n",
        "\n",
        "I don't recommend you to launch these 2 cells because it will take a lot of time."
      ]
    },
    {
      "cell_type": "code",
      "execution_count": null,
      "metadata": {
        "id": "RiwbkhWv-tu7"
      },
      "outputs": [],
      "source": [
        "#We aim to retrieve the truncated training dataset in order to test if the chunking method truly works or not\n",
        "#The result of score and plot will just base on a dataset of 20 truncated summaries from dataset and 20 summaries generated by pretrained_model\n",
        "truncated_dataset_test_text = []\n",
        "truncated_dataset_test_summary=[]\n",
        "for example in tokenized_billsum['test']:\n",
        "    input_ids = example['input_ids']\n",
        "    labels = example['labels']\n",
        "    decoded_text = tokenizer.decode(input_ids)\n",
        "    decoded_summary = tokenizer.decode(labels)\n",
        "    truncated_dataset_test_text.append(decoded_text)\n",
        "    truncated_dataset_test_summary.append(decoded_summary)\n"
      ]
    },
    {
      "cell_type": "code",
      "execution_count": null,
      "metadata": {
        "id": "xSjSV_i79mW8"
      },
      "outputs": [],
      "source": [
        "pretrained_summaries_dataset_test=summarize_dataset(truncated_dataset_test_text[:20],tokenizer,model)"
      ]
    },
    {
      "cell_type": "markdown",
      "metadata": {
        "id": "kQB8HT3ait8W"
      },
      "source": [
        "Summary generated by pretrained model"
      ]
    },
    {
      "cell_type": "code",
      "execution_count": null,
      "metadata": {
        "id": "L1ytf4ZqR4Zm"
      },
      "outputs": [],
      "source": [
        "summary=summarize_text(tokenizer.decode(test_doc),tokenizer,model_reference)"
      ]
    },
    {
      "cell_type": "code",
      "execution_count": null,
      "metadata": {
        "colab": {
          "base_uri": "https://localhost:8080/",
          "height": 53
        },
        "id": "N6v2flzNSRBE",
        "outputId": "0525cb3e-eb37-4c38-fc40-321013c6310b"
      },
      "outputs": [
        {
          "data": {
            "application/vnd.google.colaboratory.intrinsic+json": {
              "type": "string"
            },
            "text/plain": [
              "'a peace officer may arrest a person in obedience to a warrant, warrant or, pursuant to the authority granted to him or her by Chapter 4.5. the officer has probable cause to believe that the person to be arrested has committed a felony, although not in the officer’s presence.'"
            ]
          },
          "execution_count": 28,
          "metadata": {},
          "output_type": "execute_result"
        }
      ],
      "source": [
        "summary"
      ]
    },
    {
      "cell_type": "markdown",
      "metadata": {
        "id": "Xhai8vhhiyzf"
      },
      "source": [
        "We train the model from here"
      ]
    },
    {
      "cell_type": "code",
      "execution_count": null,
      "metadata": {
        "id": "g2_QIVgKkW0A"
      },
      "outputs": [],
      "source": [
        "from transformers import create_optimizer, AdamWeightDecay\n",
        "\n",
        "optimizer = AdamWeightDecay(learning_rate=0.0005, weight_decay_rate=0.01)"
      ]
    },
    {
      "cell_type": "code",
      "execution_count": null,
      "metadata": {
        "colab": {
          "base_uri": "https://localhost:8080/"
        },
        "id": "8dWO6wC7_K0Y",
        "outputId": "8392d764-d91c-4050-be91-8ec7ab36d6c5"
      },
      "outputs": [
        {
          "name": "stderr",
          "output_type": "stream",
          "text": [
            "You're using a T5TokenizerFast tokenizer. Please note that with a fast tokenizer, using the `__call__` method is faster than using a method to encode the text followed by a call to the `pad` method to get a padded encoding.\n"
          ]
        }
      ],
      "source": [
        "train_dataset = tokenized_billsum[\"train\"].to_tf_dataset(\n",
        "    batch_size=16,\n",
        "    columns=[\"input_ids\", \"attention_mask\", \"labels\"],\n",
        "    shuffle=True,\n",
        "    collate_fn=data_collator,\n",
        ")\n",
        "test_dataset = tokenized_billsum[\"test\"].to_tf_dataset(\n",
        "    batch_size=16,\n",
        "    columns=[\"input_ids\", \"attention_mask\", \"labels\"],\n",
        "    shuffle=False,\n",
        "    collate_fn=data_collator,\n",
        ")"
      ]
    },
    {
      "cell_type": "code",
      "execution_count": null,
      "metadata": {
        "id": "biBfqhvY_peY"
      },
      "outputs": [],
      "source": [
        "model.compile(optimizer=optimizer)\n",
        "model.fit(train_dataset, validation_data=test_dataset, epochs=2)"
      ]
    },
    {
      "cell_type": "markdown",
      "metadata": {
        "id": "ZB_JgDmJSylP"
      },
      "source": [
        "**Result for 6 epochs:**\n",
        "\n",
        "1st epoch: loss= 2.71, val_loss=2.26\n",
        "\n",
        "2nd epoch: loss= 2.29, val_loss=2.13\n",
        "\n",
        "3rd epoch: loss= 2.078, val_loss=2.08\n",
        "\n",
        "4th epoch: loss= 1.89, val_loss=2.03\n",
        "\n",
        "5th epoch: loss= 1.75, val_loss=2.03\n",
        "\n",
        "6th epoch: loss=1.62, val_loss=2.00"
      ]
    },
    {
      "cell_type": "code",
      "execution_count": null,
      "metadata": {
        "id": "BVtIcZJMOF4Q"
      },
      "outputs": [],
      "source": [
        "#Summary after 2 first epochs\n",
        "summary1=summarize_text(tokenizer.decode(test_doc),tokenizer,model)"
      ]
    },
    {
      "cell_type": "code",
      "execution_count": null,
      "metadata": {
        "colab": {
          "base_uri": "https://localhost:8080/",
          "height": 70
        },
        "id": "ToDP2B7_OYNf",
        "outputId": "65560c33-fe8d-4ffb-d0fa-e3a133fd36a6"
      },
      "outputs": [
        {
          "data": {
            "application/vnd.google.colaboratory.intrinsic+json": {
              "type": "string"
            },
            "text/plain": [
              "'Existing law authorizes a peace officer to arrest a person in obedience to a warrant, warrant, or, pursuant to the authority granted to him or her by Chapter 4.5, without a warrant, to arrest a person warrant whenever any of the following circumstances occur: (1) The officer has probable cause to believe that the person to be arrested has committed a public offense'"
            ]
          },
          "execution_count": 36,
          "metadata": {},
          "output_type": "execute_result"
        }
      ],
      "source": [
        "summary1"
      ]
    },
    {
      "cell_type": "code",
      "execution_count": null,
      "metadata": {
        "colab": {
          "base_uri": "https://localhost:8080/",
          "height": 53
        },
        "id": "u1n8_wDNUJSj",
        "outputId": "b22a7ced-d5fe-4b5a-c0c3-5489ff14bad3"
      },
      "outputs": [
        {
          "data": {
            "application/vnd.google.colaboratory.intrinsic+json": {
              "type": "string"
            },
            "text/plain": [
              "'Existing law authorizes a peace officer to arrest a person in obedience to a warrant, warrant or, pursuant to the authority granted to him or her, without a warrant to arrest a person warrant whenever any of the following circumstances occur: (1) The officer has probable cause to believe that the person to'"
            ]
          },
          "execution_count": 39,
          "metadata": {},
          "output_type": "execute_result"
        }
      ],
      "source": [
        "#Summary after trained 6 epochs in total\n",
        "summary2=summarize_text(tokenizer.decode(test_doc),tokenizer,model)\n",
        "summary2"
      ]
    },
    {
      "cell_type": "markdown",
      "metadata": {
        "id": "wy5ZOcUFEVZU"
      },
      "source": [
        "**ADJUST BLANC SCORE CALCULATION**\n",
        "\n",
        "In this part, we mainly focus on building the adjustment of Blanc score calculation in order to get a reasonable result."
      ]
    },
    {
      "cell_type": "code",
      "execution_count": null,
      "metadata": {
        "id": "foi7hfMxuDGQ"
      },
      "outputs": [],
      "source": [
        "from transformers import BertForMaskedLM, BertTokenizer\n",
        "model_name = 'bert-base-uncased'\n",
        "model_BLANC = BertForMaskedLM.from_pretrained(model_name)\n",
        "tokenizer_BLANC = BertTokenizer.from_pretrained(model_name)"
      ]
    },
    {
      "cell_type": "code",
      "execution_count": null,
      "metadata": {
        "id": "7XMzM1jQTtsg"
      },
      "outputs": [],
      "source": [
        "#the the filler that has '.' = length of summary\n",
        "def initialize_filler(summary):\n",
        "    filler = '.' * len(summary)\n",
        "    return filler"
      ]
    },
    {
      "cell_type": "code",
      "execution_count": null,
      "metadata": {
        "id": "vagCV5G2jzAE"
      },
      "outputs": [],
      "source": [
        "#for the filler that has '.'=number of tokens in summary\n",
        "def initialize_filler(summary):\n",
        "    tokenized_summary = tokenizer_BLANC(summary)\n",
        "    num_tokens = len(tokenized_summary['input_ids'])\n",
        "    filler = '.' * num_tokens\n",
        "    return filler"
      ]
    },
    {
      "cell_type": "code",
      "execution_count": null,
      "metadata": {
        "id": "225YFQ3GlYHF"
      },
      "outputs": [],
      "source": [
        "def mask_words(i_0, L_min, M, sentence):\n",
        "    words = sentence.split()\n",
        "    masked_sentence = []\n",
        "    masked_tokens = []  # List to store original tokens that were masked\n",
        "    for i, word in enumerate(words, 1):\n",
        "        if (i - i_0) % M == 0 and len(word) >= L_min:\n",
        "            masked_sentence.append('[MASK]')\n",
        "            masked_tokens.append(word)\n",
        "        else:\n",
        "            masked_sentence.append(word)\n",
        "    masked_sentence = ' '.join(masked_sentence)\n",
        "    return masked_sentence, masked_tokens"
      ]
    },
    {
      "cell_type": "code",
      "execution_count": null,
      "metadata": {
        "colab": {
          "base_uri": "https://localhost:8080/"
        },
        "id": "9_2EAgwTt0Oj",
        "outputId": "e67ef80a-3c46-4881-fae1-5b3469ca98f5"
      },
      "outputs": [
        {
          "name": "stdout",
          "output_type": "stream",
          "text": [
            "A [MASK] officer may arrest a person in obedience to a warrant, warrant or, pursuant to the authority granted to him or her by Chapter 4.5 (commencing with Section 830) of [MASK] 3 of Part 2, without a warrant, may arrest a person [MASK] whenever any of the following [MASK] occur\n",
            "['peace', 'Title', 'warrant', 'circumstances']\n",
            "<class 'list'>\n"
          ]
        }
      ],
      "source": [
        "# Example usage:\n",
        "i_0 = 2\n",
        "L_min = 4\n",
        "M = 6\n",
        "sentence = \" A peace officer may arrest a person in obedience to a warrant, warrant or, pursuant to the authority granted to him or her by Chapter 4.5 (commencing with Section 830) of Title 3 of Part 2, without a warrant, may arrest a person warrant whenever any of the following circumstances occur\"\n",
        "masked_sentence,masked_tokens = mask_words(i_0, L_min, M, sentence)\n",
        "print(masked_sentence)\n",
        "print(masked_tokens)\n",
        "print(type(masked_tokens))\n"
      ]
    },
    {
      "cell_type": "code",
      "execution_count": null,
      "metadata": {
        "id": "8I1tOpZrEc0a"
      },
      "outputs": [],
      "source": [
        "def no_copy_pair_guard(document, summary):\n",
        "    doc_sentences = document.split('.')\n",
        "    summary_sentences = summary.split('.')\n",
        "\n",
        "    doc_sentences = [sentence.strip() for sentence in doc_sentences if sentence.strip()]\n",
        "    summary_sentences = [sentence.strip() for sentence in summary_sentences if sentence.strip()]\n",
        "\n",
        "    # Create a set of unique sentences in the summary\n",
        "    unique_summary_sentences = set(summary_sentences)\n",
        "\n",
        "    # Remove sentences from the document if they are identical to any sentence in the summary\n",
        "    filtered_document = []\n",
        "    for sentence in doc_sentences:\n",
        "        if sentence not in unique_summary_sentences:\n",
        "            filtered_document.append(sentence)\n",
        "\n",
        "    filtered_document_text = '. '.join(filtered_document)\n",
        "\n",
        "    return filtered_document_text"
      ]
    },
    {
      "cell_type": "code",
      "execution_count": null,
      "metadata": {
        "colab": {
          "base_uri": "https://localhost:8080/"
        },
        "id": "7DR0bJSnoxc2",
        "outputId": "675a16fa-6ea7-437a-9710-650731fad350"
      },
      "outputs": [
        {
          "name": "stdout",
          "output_type": "stream",
          "text": [
            "This is a document. Gotcha\n"
          ]
        }
      ],
      "source": [
        "document = \"This is a document. It contains sentences. Some sentences may repeat.Gotcha\"\n",
        "summary = \"This is a summary. It contains sentences. Some sentences may repeat.Gotyou\"\n",
        "\n",
        "filtered_document = no_copy_pair_guard(document, summary)\n",
        "print(filtered_document)"
      ]
    },
    {
      "cell_type": "code",
      "execution_count": null,
      "metadata": {
        "id": "yv-HOceDpSv2"
      },
      "outputs": [],
      "source": [
        "def predict_masked_words(document, model, tokenizer):\n",
        "    # Tokenize doc\n",
        "    tokenized_text = tokenizer.tokenize(document)\n",
        "\n",
        "    predicted_tokens_list = []\n",
        "\n",
        "    for i, token in enumerate(tokenized_text):\n",
        "        if token == '[MASK]':\n",
        "            indexed_tokens = tokenizer.convert_tokens_to_ids(tokenized_text)\n",
        "\n",
        "            tokens_tensor = torch.tensor([indexed_tokens])\n",
        "\n",
        "            # Predict masked token\n",
        "            with torch.no_grad():\n",
        "                outputs = model(tokens_tensor)\n",
        "                predictions = outputs[0][0, i].topk(1)  # Take a best prediction\n",
        "\n",
        "            predicted_tokens = [tokenizer.convert_ids_to_tokens(index.item()) for index in predictions.indices]\n",
        "\n",
        "            predicted_tokens_list.append(predicted_tokens)\n",
        "\n",
        "    predicted_tokens_list=[item for sublist in predicted_tokens_list for item in sublist]#flatten the list of list\n",
        "\n",
        "    return predicted_tokens_list"
      ]
    },
    {
      "cell_type": "code",
      "execution_count": null,
      "metadata": {
        "colab": {
          "base_uri": "https://localhost:8080/"
        },
        "id": "fjxLANPchpIZ",
        "outputId": "56f1d973-d435-4788-f1a3-8118c6dab0ff"
      },
      "outputs": [
        {
          "data": {
            "text/plain": [
              "['an', 'section', ',', 'shall']"
            ]
          },
          "execution_count": 218,
          "metadata": {},
          "output_type": "execute_result"
        }
      ],
      "source": [
        "predict_masked_words(\"A [MASK] officer may arrest a person in obedience to a warrant, warrant or, pursuant to the authority granted to him or her by Chapter 4.5 (commencing with Section 830) of [MASK] 3 of Part 2, without a warrant, may arrest a person [MASK] whenever any of the following [MASK] occur\",model_BLANC, tokenizer_BLANC)"
      ]
    },
    {
      "cell_type": "markdown",
      "metadata": {
        "id": "RQuRWvi5AiR-"
      },
      "source": [
        "This Part is dedicated to Cosine similarity Experiments"
      ]
    },
    {
      "cell_type": "code",
      "execution_count": null,
      "metadata": {
        "id": "pTv8FjZRwuZ0"
      },
      "outputs": [],
      "source": [
        "def cos_similarity(token1, token2, model, tokenizer):\n",
        "    token_ids_1 = tokenizer.encode(token1, add_special_tokens=False, return_tensors='pt')\n",
        "    token_ids_2 = tokenizer.encode(token2, add_special_tokens=False, return_tensors='pt')\n",
        "\n",
        "    outputs_1 = model(token_ids_1)\n",
        "    outputs_2 = model(token_ids_2)\n",
        "\n",
        "    # Extract embeddings from the output\n",
        "    embeddings_1 = outputs_1[0][:, 0, :]\n",
        "    embeddings_2 = outputs_2[0][:, 0, :]\n",
        "\n",
        "    # Compute dot product of embeddings_1 and embeddings_2\n",
        "    dot_product = torch.sum(embeddings_1 * embeddings_2)\n",
        "\n",
        "    # Compute L2 norms of embeddings_1 and embeddings_2\n",
        "    norm_1 = torch.norm(embeddings_1)\n",
        "    norm_2 = torch.norm(embeddings_2)\n",
        "\n",
        "    # Compute cosine similarity\n",
        "    cosine_similarity = dot_product / (norm_1 * norm_2)\n",
        "\n",
        "    return cosine_similarity"
      ]
    },
    {
      "cell_type": "code",
      "execution_count": null,
      "metadata": {
        "colab": {
          "base_uri": "https://localhost:8080/"
        },
        "id": "U3qtfwXE1GZ_",
        "outputId": "25d9f430-d4ac-41ff-b6b0-15bf3896fbd1"
      },
      "outputs": [
        {
          "name": "stdout",
          "output_type": "stream",
          "text": [
            "Cosine similarity between 'man' and 'boy': 0.9007138609886169\n"
          ]
        }
      ],
      "source": [
        "#TEST\n",
        "token1 = \"man\"\n",
        "token2 = \"boy\"\n",
        "similarity = cos_similarity(token1, token2, model_BLANC, tokenizer_BLANC)\n",
        "print(f\"Cosine similarity between '{token1}' and '{token2}': {similarity}\")"
      ]
    },
    {
      "cell_type": "code",
      "execution_count": null,
      "metadata": {
        "colab": {
          "base_uri": "https://localhost:8080/"
        },
        "id": "9SJjVheS5lkP",
        "outputId": "3f60b6a4-8612-47ea-ffef-21de7ca2e60d"
      },
      "outputs": [
        {
          "name": "stdout",
          "output_type": "stream",
          "text": [
            "Cosine similarity between 'man' and 'man': 0.9999997019767761\n"
          ]
        }
      ],
      "source": [
        "#TEST\n",
        "token1 = \"man\"\n",
        "token2 = \"man\"\n",
        "similarity = cos_similarity(token1, token2, model_BLANC, tokenizer_BLANC)\n",
        "print(f\"Cosine similarity between '{token1}' and '{token2}': {similarity}\")"
      ]
    },
    {
      "cell_type": "code",
      "execution_count": null,
      "metadata": {
        "colab": {
          "base_uri": "https://localhost:8080/"
        },
        "id": "46jtjHxg4I1Q",
        "outputId": "88c2fae2-a790-4626-dfb6-2e66ed60ebc1"
      },
      "outputs": [
        {
          "name": "stdout",
          "output_type": "stream",
          "text": [
            "Cosine similarity between 'cat' and 'dog': 0.9107443690299988\n"
          ]
        }
      ],
      "source": [
        "#TEST\n",
        "token1 = \"cat\"\n",
        "token2 = \"dog\"\n",
        "similarity = cos_similarity(token1, token2, model_BLANC, tokenizer_BLANC)\n",
        "print(f\"Cosine similarity between '{token1}' and '{token2}': {similarity}\")"
      ]
    },
    {
      "cell_type": "markdown",
      "metadata": {
        "id": "C6eGN6J4Axa7"
      },
      "source": [
        "Build BLANC-help and test it with the summaries generated by the model."
      ]
    },
    {
      "cell_type": "code",
      "execution_count": null,
      "metadata": {
        "id": "KO_hRJXRAwEn"
      },
      "outputs": [],
      "source": [
        "def BLANC_help(summary,text,model,tokenizer,M,L_min):\n",
        "  filler=initialize_filler(summary)\n",
        "  S01, S10, S_total = 0, 0, 0\n",
        "\n",
        "  filtered_document=no_copy_pair_guard(text, summary)#no_copy_pair_guard\n",
        "  # Original text into Sentences\n",
        "  sentences = sent_tokenize(filtered_document)\n",
        "  for sentence in sentences:\n",
        "    for i0 in range(1, M+1):\n",
        "      masked_sentence,masked_tokens=mask_words(i0, L_min, M, sentence)\n",
        "      input_base= filler + \".\" + masked_sentence\n",
        "      input_help= summary +\".\"+ masked_sentence\n",
        "      prediction_base=predict_masked_words(input_base, model, tokenizer)\n",
        "      prediction_help=predict_masked_words(input_help, model, tokenizer)\n",
        "      #convert to set for faster lookup\n",
        "      prediction_base = set(prediction_base)\n",
        "      prediction_help = set(prediction_help)\n",
        "      #find the similar tokens\n",
        "      common_elements_base = prediction_base.intersection(masked_tokens)\n",
        "      common_elements_help = prediction_help.intersection(masked_tokens)\n",
        "\n",
        "      S01+=len(common_elements_help)\n",
        "      S10+=len(common_elements_base)\n",
        "\n",
        "      S_total+=len(masked_tokens)\n",
        "  return (S01-S10)/S_total\n",
        "\n"
      ]
    },
    {
      "cell_type": "markdown",
      "metadata": {
        "id": "iYx9Jn8nSl3L"
      },
      "source": [
        "Test the BLANC score with various summaries given by pretrain-model/tuned-model"
      ]
    },
    {
      "cell_type": "code",
      "execution_count": null,
      "metadata": {
        "id": "jWwahaJWMlfT"
      },
      "outputs": [],
      "source": [
        "text=\"summarize: The people of the State of California do enact as follows: SECTION 1. Section 836 of the Penal Code is amended to read: 836. (a) A peace officer may arrest a person in obedience to a warrant, warrant or, pursuant to the authority granted to him or her by Chapter 4.5 (commencing with Section 830) of Title 3 of Part 2, without a warrant, may arrest a person warrant whenever any of the following circumstances occur: (1) The officer has probable cause to believe that the person to be arrested has committed a public offense in the officer’s presence. (2) The person arrested has committed a felony, although not in the officer’s presence. (3) The officer has probable cause to believe that the person to be arrested has committed a felony, whether or not a felony, in fact, has been committed. (b) Any time a peace officer is called out on a domestic violence call, it shall be mandatory that the officer make a good faith effort to inform the victim of his or her right to make a citizen’s arrest, unless the peace officer makes an arrest for a violation of paragraph (1) of subdivision (e) of Section 243 or 273.5. This information shall include advising the victim how to safely execute the arrest. (c) (1) When a peace officer is responding to a call alleging a violation of a domestic violence protective or restraining order issued under Section 527.6 of the Code of Civil Procedure, the Family Code, Section 136.2, 646.91, or paragraph (2) of subdivision (a) of Section 1203.097 of this code, Section 213.5 or 15657.03 of the Welfare and Institutions Code, or of a domestic violence protective or restraining order issued by the court of another state, tribe, or territory and the peace officer has probable cause to believe that the person against whom the order is issued has notice of the order and has committed an act in violation of the order, the officer shall, consistent with subdivision (b) of Section 13701, make a lawful arrest of the person without a warrant and take that person into custody whether or not the violation occurred in the presence of the arresting officer. The officer shall, as soon as possible after the arrest, confirm with the appropriate authorities or the Domestic Violence Protection Order Registry maintained pursuant</s>\""
      ]
    },
    {
      "cell_type": "markdown",
      "metadata": {
        "id": "w-lF2rAJbbgy"
      },
      "source": [
        "Test with filler has number of '.' = number of tokens in summaries, ie= 64\n",
        "\n",
        "\n",
        "\n"
      ]
    },
    {
      "cell_type": "code",
      "execution_count": null,
      "metadata": {
        "colab": {
          "base_uri": "https://localhost:8080/"
        },
        "id": "ZB4R3NJk6M-N",
        "outputId": "03fe0d2c-a3d6-4e06-97ea-0ae3f78f2a71"
      },
      "outputs": [
        {
          "name": "stdout",
          "output_type": "stream",
          "text": [
            "TRUNCATED_REFERENCE_SUMMARY score =  0.1388888888888889\n"
          ]
        }
      ],
      "source": [
        "truncated_reference_summary=\"Existing law authorizes a peace officer to arrest a person without a warrant if the officer has probable cause to believe that the person has committed a public offense in the officer’s presence or if the officer has probable cause to believe that the person has committed a felony. This</s>\"\n",
        "truncated_reference_summary_score=BLANC_help(truncated_reference_summary,text,model_BLANC, tokenizer_BLANC,M=6,L_min=4)\n",
        "print('TRUNCATED_REFERENCE_SUMMARY score = ',truncated_reference_summary_score)"
      ]
    },
    {
      "cell_type": "code",
      "execution_count": null,
      "metadata": {
        "colab": {
          "base_uri": "https://localhost:8080/"
        },
        "id": "AtgYWNyWXvG-",
        "outputId": "fe54e280-7c68-4a1f-d46a-3d59e368c4d8"
      },
      "outputs": [
        {
          "name": "stdout",
          "output_type": "stream",
          "text": [
            "Pretrained_SUMMARY score =  0.16666666666666666\n"
          ]
        }
      ],
      "source": [
        "pretrained_summary=\"a peace officer may arrest a person in obedience to a warrant, warrant or, pursuant to the authority granted to him or her by Chapter 4.5. the officer has probable cause to believe that the person to be arrested has committed a felony, although not in the officer’s presence.\"\n",
        "pretrained_summary_score=BLANC_help(pretrained_summary,text,model_BLANC, tokenizer_BLANC,M=6,L_min=4)\n",
        "print('Pretrained_SUMMARY score = ',pretrained_summary_score)"
      ]
    },
    {
      "cell_type": "code",
      "execution_count": null,
      "metadata": {
        "colab": {
          "base_uri": "https://localhost:8080/"
        },
        "id": "fxvBBgAURBm_",
        "outputId": "5a11fa0a-3edc-46be-e672-fe2943f87784"
      },
      "outputs": [
        {
          "name": "stdout",
          "output_type": "stream",
          "text": [
            "2EPOCHS_TRAINED_SUMMARY score =  0.2175925925925926\n"
          ]
        }
      ],
      "source": [
        "#Test with 2epochs tuned model\n",
        "trained_summary1=\"Existing law authorizes a peace officer to arrest a person in obedience to a warrant, warrant, or, pursuant to the authority granted to him or her by Chapter 4.5, without a warrant, to arrest a person warrant whenever any of the following circumstances occur: (1) The officer has probable cause to believe that the person to be arrested has committed a public offense\"\n",
        "trained_summary_score1=BLANC_help(trained_summary1,text,model_BLANC, tokenizer_BLANC,M=6,L_min=4)\n",
        "print('2EPOCHS_TRAINED_SUMMARY score = ',trained_summary_score1)"
      ]
    },
    {
      "cell_type": "code",
      "execution_count": null,
      "metadata": {
        "colab": {
          "base_uri": "https://localhost:8080/"
        },
        "id": "oPZZskC6SVEf",
        "outputId": "2f447bf7-75f2-4dd0-9e55-ac710eab0e29"
      },
      "outputs": [
        {
          "name": "stdout",
          "output_type": "stream",
          "text": [
            "6EPOCHS_TRAINED_SUMMARY score =  0.1388888888888889\n"
          ]
        }
      ],
      "source": [
        "trained_summary2=\"Existing law authorizes a peace officer to arrest a person in obedience to a warrant, warrant or, pursuant to the authority granted to him or her, without a warrant to arrest a person warrant whenever any of the following circumstances occur: (1) The officer has probable cause to believe that the person to\"\n",
        "trained_summary_score2=BLANC_help(trained_summary2,text,model_BLANC, tokenizer_BLANC,M=6,L_min=4)\n",
        "print('6EPOCHS_TRAINED_SUMMARY score = ',trained_summary_score2)"
      ]
    },
    {
      "cell_type": "markdown",
      "metadata": {
        "id": "tL-yHho9brRw"
      },
      "source": [
        "Test the BLANC score with filler that number number of '.' = length of summaries"
      ]
    },
    {
      "cell_type": "code",
      "execution_count": null,
      "metadata": {
        "colab": {
          "base_uri": "https://localhost:8080/"
        },
        "id": "Eufro7r-T2jJ",
        "outputId": "6c3a5255-270a-4d3a-893e-f13831bdc571"
      },
      "outputs": [
        {
          "name": "stdout",
          "output_type": "stream",
          "text": [
            "TRUNCATED_REFERENCE_SUMMARY score =  0.16203703703703703\n"
          ]
        }
      ],
      "source": [
        "truncated_reference_summary=\"Existing law authorizes a peace officer to arrest a person without a warrant if the officer has probable cause to believe that the person has committed a public offense in the officer’s presence or if the officer has probable cause to believe that the person has committed a felony. This</s>\"\n",
        "truncated_reference_summary_score=BLANC_help(truncated_reference_summary,text,model_BLANC, tokenizer_BLANC,M=6,L_min=4)\n",
        "print('TRUNCATED_REFERENCE_SUMMARY score = ',truncated_reference_summary_score)"
      ]
    },
    {
      "cell_type": "code",
      "execution_count": null,
      "metadata": {
        "colab": {
          "base_uri": "https://localhost:8080/"
        },
        "id": "wQdQu1TbOzz1",
        "outputId": "75a2a7fd-4369-4934-d25c-f01f25c1b6aa"
      },
      "outputs": [
        {
          "name": "stdout",
          "output_type": "stream",
          "text": [
            "Pretrained_SUMMARY score =  0.14814814814814814\n"
          ]
        }
      ],
      "source": [
        "pretrained_summary=\"a peace officer may arrest a person in obedience to a warrant, warrant or, pursuant to the authority granted to him or her by Chapter 4.5. the officer has probable cause to believe that the person to be arrested has committed a felony, although not in the officer’s presence.\"\n",
        "pretrained_summary_score=BLANC_help(pretrained_summary,text,model_BLANC, tokenizer_BLANC,M=6,L_min=4)\n",
        "print('Pretrained_SUMMARY score = ',pretrained_summary_score)"
      ]
    },
    {
      "cell_type": "code",
      "execution_count": null,
      "metadata": {
        "colab": {
          "base_uri": "https://localhost:8080/"
        },
        "id": "1_spOv8zcOs5",
        "outputId": "6e431919-22ed-41c1-b888-8c2f3f653152"
      },
      "outputs": [
        {
          "name": "stdout",
          "output_type": "stream",
          "text": [
            "2EPOCHS_TRAINED_SUMMARY score =  0.2175925925925926\n"
          ]
        }
      ],
      "source": [
        "#Test with 2epochs tuned model\n",
        "trained_summary1=\"Existing law authorizes a peace officer to arrest a person in obedience to a warrant, warrant, or, pursuant to the authority granted to him or her by Chapter 4.5, without a warrant, to arrest a person warrant whenever any of the following circumstances occur: (1) The officer has probable cause to believe that the person to be arrested has committed a public offense\"\n",
        "trained_summary_score1=BLANC_help(trained_summary1,text,model_BLANC, tokenizer_BLANC,M=6,L_min=4)\n",
        "print('2EPOCHS_TRAINED_SUMMARY score = ',trained_summary_score1)"
      ]
    },
    {
      "cell_type": "code",
      "execution_count": null,
      "metadata": {
        "colab": {
          "base_uri": "https://localhost:8080/"
        },
        "id": "72U1POG2SIYh",
        "outputId": "ae81124e-0dc5-495d-899f-8d5b2d6d3b86"
      },
      "outputs": [
        {
          "name": "stdout",
          "output_type": "stream",
          "text": [
            "6EPOCHS_TRAINED_SUMMARY score =  0.18981481481481483\n"
          ]
        }
      ],
      "source": [
        "trained_summary2=\"Existing law authorizes a peace officer to arrest a person in obedience to a warrant, warrant or, pursuant to the authority granted to him or her, without a warrant to arrest a person warrant whenever any of the following circumstances occur: (1) The officer has probable cause to believe that the person to\"\n",
        "trained_summary_score2=BLANC_help(trained_summary2,text,model_BLANC, tokenizer_BLANC,M=6,L_min=4)\n",
        "print('6EPOCHS_TRAINED_SUMMARY score = ',trained_summary_score2)"
      ]
    }
  ],
  "metadata": {
    "colab": {
      "provenance": []
    },
    "kernelspec": {
      "display_name": "Python 3",
      "name": "python3"
    },
    "language_info": {
      "name": "python"
    },
    "widgets": {
      "application/vnd.jupyter.widget-state+json": {
        "0bcf3755f04b4c11838dd2423754c37a": {
          "model_module": "@jupyter-widgets/base",
          "model_module_version": "1.2.0",
          "model_name": "LayoutModel",
          "state": {
            "_model_module": "@jupyter-widgets/base",
            "_model_module_version": "1.2.0",
            "_model_name": "LayoutModel",
            "_view_count": null,
            "_view_module": "@jupyter-widgets/base",
            "_view_module_version": "1.2.0",
            "_view_name": "LayoutView",
            "align_content": null,
            "align_items": null,
            "align_self": null,
            "border": null,
            "bottom": null,
            "display": null,
            "flex": null,
            "flex_flow": null,
            "grid_area": null,
            "grid_auto_columns": null,
            "grid_auto_flow": null,
            "grid_auto_rows": null,
            "grid_column": null,
            "grid_gap": null,
            "grid_row": null,
            "grid_template_areas": null,
            "grid_template_columns": null,
            "grid_template_rows": null,
            "height": null,
            "justify_content": null,
            "justify_items": null,
            "left": null,
            "margin": null,
            "max_height": null,
            "max_width": null,
            "min_height": null,
            "min_width": null,
            "object_fit": null,
            "object_position": null,
            "order": null,
            "overflow": null,
            "overflow_x": null,
            "overflow_y": null,
            "padding": null,
            "right": null,
            "top": null,
            "visibility": null,
            "width": null
          }
        },
        "173a986537de41d9a5538d400ab4b724": {
          "model_module": "@jupyter-widgets/controls",
          "model_module_version": "1.5.0",
          "model_name": "DescriptionStyleModel",
          "state": {
            "_model_module": "@jupyter-widgets/controls",
            "_model_module_version": "1.5.0",
            "_model_name": "DescriptionStyleModel",
            "_view_count": null,
            "_view_module": "@jupyter-widgets/base",
            "_view_module_version": "1.2.0",
            "_view_name": "StyleView",
            "description_width": ""
          }
        },
        "1b6c8817b2724443a0e40fcb4c10b946": {
          "model_module": "@jupyter-widgets/controls",
          "model_module_version": "1.5.0",
          "model_name": "HTMLModel",
          "state": {
            "_dom_classes": [],
            "_model_module": "@jupyter-widgets/controls",
            "_model_module_version": "1.5.0",
            "_model_name": "HTMLModel",
            "_view_count": null,
            "_view_module": "@jupyter-widgets/controls",
            "_view_module_version": "1.5.0",
            "_view_name": "HTMLView",
            "description": "",
            "description_tooltip": null,
            "layout": "IPY_MODEL_9ea6eb4215b9405984f1c1f14d06d093",
            "placeholder": "​",
            "style": "IPY_MODEL_ba5a9a0bd5ca47fd91d508959bb3db18",
            "value": " 248/248 [00:05&lt;00:00, 45.58 examples/s]"
          }
        },
        "1eeced28c47c4f78acc80488383f118a": {
          "model_module": "@jupyter-widgets/controls",
          "model_module_version": "1.5.0",
          "model_name": "HTMLModel",
          "state": {
            "_dom_classes": [],
            "_model_module": "@jupyter-widgets/controls",
            "_model_module_version": "1.5.0",
            "_model_name": "HTMLModel",
            "_view_count": null,
            "_view_module": "@jupyter-widgets/controls",
            "_view_module_version": "1.5.0",
            "_view_name": "HTMLView",
            "description": "",
            "description_tooltip": null,
            "layout": "IPY_MODEL_6089a507041147a8ac4c5d1523aea2f1",
            "placeholder": "​",
            "style": "IPY_MODEL_173a986537de41d9a5538d400ab4b724",
            "value": "Map: 100%"
          }
        },
        "214b6be2787b4e2aaad513531f2828e3": {
          "model_module": "@jupyter-widgets/base",
          "model_module_version": "1.2.0",
          "model_name": "LayoutModel",
          "state": {
            "_model_module": "@jupyter-widgets/base",
            "_model_module_version": "1.2.0",
            "_model_name": "LayoutModel",
            "_view_count": null,
            "_view_module": "@jupyter-widgets/base",
            "_view_module_version": "1.2.0",
            "_view_name": "LayoutView",
            "align_content": null,
            "align_items": null,
            "align_self": null,
            "border": null,
            "bottom": null,
            "display": null,
            "flex": null,
            "flex_flow": null,
            "grid_area": null,
            "grid_auto_columns": null,
            "grid_auto_flow": null,
            "grid_auto_rows": null,
            "grid_column": null,
            "grid_gap": null,
            "grid_row": null,
            "grid_template_areas": null,
            "grid_template_columns": null,
            "grid_template_rows": null,
            "height": null,
            "justify_content": null,
            "justify_items": null,
            "left": null,
            "margin": null,
            "max_height": null,
            "max_width": null,
            "min_height": null,
            "min_width": null,
            "object_fit": null,
            "object_position": null,
            "order": null,
            "overflow": null,
            "overflow_x": null,
            "overflow_y": null,
            "padding": null,
            "right": null,
            "top": null,
            "visibility": null,
            "width": null
          }
        },
        "3ed5deeeb1a84273a534025f8f00bca4": {
          "model_module": "@jupyter-widgets/controls",
          "model_module_version": "1.5.0",
          "model_name": "HBoxModel",
          "state": {
            "_dom_classes": [],
            "_model_module": "@jupyter-widgets/controls",
            "_model_module_version": "1.5.0",
            "_model_name": "HBoxModel",
            "_view_count": null,
            "_view_module": "@jupyter-widgets/controls",
            "_view_module_version": "1.5.0",
            "_view_name": "HBoxView",
            "box_style": "",
            "children": [
              "IPY_MODEL_c76691b70a374ed895b234543cb3a0bf",
              "IPY_MODEL_b349e925748246879563ae5020dc0fcb",
              "IPY_MODEL_61d27d7f82e64520a4fb173312b18bc4"
            ],
            "layout": "IPY_MODEL_f35e7b3d90794eaf80625dc9af5bef03"
          }
        },
        "4f887bf9eded4ec9828ffa042813718e": {
          "model_module": "@jupyter-widgets/controls",
          "model_module_version": "1.5.0",
          "model_name": "DescriptionStyleModel",
          "state": {
            "_model_module": "@jupyter-widgets/controls",
            "_model_module_version": "1.5.0",
            "_model_name": "DescriptionStyleModel",
            "_view_count": null,
            "_view_module": "@jupyter-widgets/base",
            "_view_module_version": "1.2.0",
            "_view_name": "StyleView",
            "description_width": ""
          }
        },
        "6089a507041147a8ac4c5d1523aea2f1": {
          "model_module": "@jupyter-widgets/base",
          "model_module_version": "1.2.0",
          "model_name": "LayoutModel",
          "state": {
            "_model_module": "@jupyter-widgets/base",
            "_model_module_version": "1.2.0",
            "_model_name": "LayoutModel",
            "_view_count": null,
            "_view_module": "@jupyter-widgets/base",
            "_view_module_version": "1.2.0",
            "_view_name": "LayoutView",
            "align_content": null,
            "align_items": null,
            "align_self": null,
            "border": null,
            "bottom": null,
            "display": null,
            "flex": null,
            "flex_flow": null,
            "grid_area": null,
            "grid_auto_columns": null,
            "grid_auto_flow": null,
            "grid_auto_rows": null,
            "grid_column": null,
            "grid_gap": null,
            "grid_row": null,
            "grid_template_areas": null,
            "grid_template_columns": null,
            "grid_template_rows": null,
            "height": null,
            "justify_content": null,
            "justify_items": null,
            "left": null,
            "margin": null,
            "max_height": null,
            "max_width": null,
            "min_height": null,
            "min_width": null,
            "object_fit": null,
            "object_position": null,
            "order": null,
            "overflow": null,
            "overflow_x": null,
            "overflow_y": null,
            "padding": null,
            "right": null,
            "top": null,
            "visibility": null,
            "width": null
          }
        },
        "61d27d7f82e64520a4fb173312b18bc4": {
          "model_module": "@jupyter-widgets/controls",
          "model_module_version": "1.5.0",
          "model_name": "HTMLModel",
          "state": {
            "_dom_classes": [],
            "_model_module": "@jupyter-widgets/controls",
            "_model_module_version": "1.5.0",
            "_model_name": "HTMLModel",
            "_view_count": null,
            "_view_module": "@jupyter-widgets/controls",
            "_view_module_version": "1.5.0",
            "_view_name": "HTMLView",
            "description": "",
            "description_tooltip": null,
            "layout": "IPY_MODEL_98e67bff6a54475aba6f858ad03add52",
            "placeholder": "​",
            "style": "IPY_MODEL_4f887bf9eded4ec9828ffa042813718e",
            "value": " 989/989 [00:16&lt;00:00, 59.89 examples/s]"
          }
        },
        "809544afa4584e45b0588f9eb17cb1a3": {
          "model_module": "@jupyter-widgets/base",
          "model_module_version": "1.2.0",
          "model_name": "LayoutModel",
          "state": {
            "_model_module": "@jupyter-widgets/base",
            "_model_module_version": "1.2.0",
            "_model_name": "LayoutModel",
            "_view_count": null,
            "_view_module": "@jupyter-widgets/base",
            "_view_module_version": "1.2.0",
            "_view_name": "LayoutView",
            "align_content": null,
            "align_items": null,
            "align_self": null,
            "border": null,
            "bottom": null,
            "display": null,
            "flex": null,
            "flex_flow": null,
            "grid_area": null,
            "grid_auto_columns": null,
            "grid_auto_flow": null,
            "grid_auto_rows": null,
            "grid_column": null,
            "grid_gap": null,
            "grid_row": null,
            "grid_template_areas": null,
            "grid_template_columns": null,
            "grid_template_rows": null,
            "height": null,
            "justify_content": null,
            "justify_items": null,
            "left": null,
            "margin": null,
            "max_height": null,
            "max_width": null,
            "min_height": null,
            "min_width": null,
            "object_fit": null,
            "object_position": null,
            "order": null,
            "overflow": null,
            "overflow_x": null,
            "overflow_y": null,
            "padding": null,
            "right": null,
            "top": null,
            "visibility": null,
            "width": null
          }
        },
        "86f81bfa761744769f93929ba24c42f3": {
          "model_module": "@jupyter-widgets/controls",
          "model_module_version": "1.5.0",
          "model_name": "FloatProgressModel",
          "state": {
            "_dom_classes": [],
            "_model_module": "@jupyter-widgets/controls",
            "_model_module_version": "1.5.0",
            "_model_name": "FloatProgressModel",
            "_view_count": null,
            "_view_module": "@jupyter-widgets/controls",
            "_view_module_version": "1.5.0",
            "_view_name": "ProgressView",
            "bar_style": "success",
            "description": "",
            "description_tooltip": null,
            "layout": "IPY_MODEL_0bcf3755f04b4c11838dd2423754c37a",
            "max": 248,
            "min": 0,
            "orientation": "horizontal",
            "style": "IPY_MODEL_9d052f56951742a4a004403c7f7ad32c",
            "value": 248
          }
        },
        "8751c3ed33ab470bb7655e03d86ab23e": {
          "model_module": "@jupyter-widgets/controls",
          "model_module_version": "1.5.0",
          "model_name": "DescriptionStyleModel",
          "state": {
            "_model_module": "@jupyter-widgets/controls",
            "_model_module_version": "1.5.0",
            "_model_name": "DescriptionStyleModel",
            "_view_count": null,
            "_view_module": "@jupyter-widgets/base",
            "_view_module_version": "1.2.0",
            "_view_name": "StyleView",
            "description_width": ""
          }
        },
        "98e67bff6a54475aba6f858ad03add52": {
          "model_module": "@jupyter-widgets/base",
          "model_module_version": "1.2.0",
          "model_name": "LayoutModel",
          "state": {
            "_model_module": "@jupyter-widgets/base",
            "_model_module_version": "1.2.0",
            "_model_name": "LayoutModel",
            "_view_count": null,
            "_view_module": "@jupyter-widgets/base",
            "_view_module_version": "1.2.0",
            "_view_name": "LayoutView",
            "align_content": null,
            "align_items": null,
            "align_self": null,
            "border": null,
            "bottom": null,
            "display": null,
            "flex": null,
            "flex_flow": null,
            "grid_area": null,
            "grid_auto_columns": null,
            "grid_auto_flow": null,
            "grid_auto_rows": null,
            "grid_column": null,
            "grid_gap": null,
            "grid_row": null,
            "grid_template_areas": null,
            "grid_template_columns": null,
            "grid_template_rows": null,
            "height": null,
            "justify_content": null,
            "justify_items": null,
            "left": null,
            "margin": null,
            "max_height": null,
            "max_width": null,
            "min_height": null,
            "min_width": null,
            "object_fit": null,
            "object_position": null,
            "order": null,
            "overflow": null,
            "overflow_x": null,
            "overflow_y": null,
            "padding": null,
            "right": null,
            "top": null,
            "visibility": null,
            "width": null
          }
        },
        "9d052f56951742a4a004403c7f7ad32c": {
          "model_module": "@jupyter-widgets/controls",
          "model_module_version": "1.5.0",
          "model_name": "ProgressStyleModel",
          "state": {
            "_model_module": "@jupyter-widgets/controls",
            "_model_module_version": "1.5.0",
            "_model_name": "ProgressStyleModel",
            "_view_count": null,
            "_view_module": "@jupyter-widgets/base",
            "_view_module_version": "1.2.0",
            "_view_name": "StyleView",
            "bar_color": null,
            "description_width": ""
          }
        },
        "9ea6eb4215b9405984f1c1f14d06d093": {
          "model_module": "@jupyter-widgets/base",
          "model_module_version": "1.2.0",
          "model_name": "LayoutModel",
          "state": {
            "_model_module": "@jupyter-widgets/base",
            "_model_module_version": "1.2.0",
            "_model_name": "LayoutModel",
            "_view_count": null,
            "_view_module": "@jupyter-widgets/base",
            "_view_module_version": "1.2.0",
            "_view_name": "LayoutView",
            "align_content": null,
            "align_items": null,
            "align_self": null,
            "border": null,
            "bottom": null,
            "display": null,
            "flex": null,
            "flex_flow": null,
            "grid_area": null,
            "grid_auto_columns": null,
            "grid_auto_flow": null,
            "grid_auto_rows": null,
            "grid_column": null,
            "grid_gap": null,
            "grid_row": null,
            "grid_template_areas": null,
            "grid_template_columns": null,
            "grid_template_rows": null,
            "height": null,
            "justify_content": null,
            "justify_items": null,
            "left": null,
            "margin": null,
            "max_height": null,
            "max_width": null,
            "min_height": null,
            "min_width": null,
            "object_fit": null,
            "object_position": null,
            "order": null,
            "overflow": null,
            "overflow_x": null,
            "overflow_y": null,
            "padding": null,
            "right": null,
            "top": null,
            "visibility": null,
            "width": null
          }
        },
        "b08a03d82c2e48af9039d151a213d3a7": {
          "model_module": "@jupyter-widgets/base",
          "model_module_version": "1.2.0",
          "model_name": "LayoutModel",
          "state": {
            "_model_module": "@jupyter-widgets/base",
            "_model_module_version": "1.2.0",
            "_model_name": "LayoutModel",
            "_view_count": null,
            "_view_module": "@jupyter-widgets/base",
            "_view_module_version": "1.2.0",
            "_view_name": "LayoutView",
            "align_content": null,
            "align_items": null,
            "align_self": null,
            "border": null,
            "bottom": null,
            "display": null,
            "flex": null,
            "flex_flow": null,
            "grid_area": null,
            "grid_auto_columns": null,
            "grid_auto_flow": null,
            "grid_auto_rows": null,
            "grid_column": null,
            "grid_gap": null,
            "grid_row": null,
            "grid_template_areas": null,
            "grid_template_columns": null,
            "grid_template_rows": null,
            "height": null,
            "justify_content": null,
            "justify_items": null,
            "left": null,
            "margin": null,
            "max_height": null,
            "max_width": null,
            "min_height": null,
            "min_width": null,
            "object_fit": null,
            "object_position": null,
            "order": null,
            "overflow": null,
            "overflow_x": null,
            "overflow_y": null,
            "padding": null,
            "right": null,
            "top": null,
            "visibility": null,
            "width": null
          }
        },
        "b349e925748246879563ae5020dc0fcb": {
          "model_module": "@jupyter-widgets/controls",
          "model_module_version": "1.5.0",
          "model_name": "FloatProgressModel",
          "state": {
            "_dom_classes": [],
            "_model_module": "@jupyter-widgets/controls",
            "_model_module_version": "1.5.0",
            "_model_name": "FloatProgressModel",
            "_view_count": null,
            "_view_module": "@jupyter-widgets/controls",
            "_view_module_version": "1.5.0",
            "_view_name": "ProgressView",
            "bar_style": "success",
            "description": "",
            "description_tooltip": null,
            "layout": "IPY_MODEL_b08a03d82c2e48af9039d151a213d3a7",
            "max": 989,
            "min": 0,
            "orientation": "horizontal",
            "style": "IPY_MODEL_b5c8566514264385a5c49c0d3f526da0",
            "value": 989
          }
        },
        "b5c8566514264385a5c49c0d3f526da0": {
          "model_module": "@jupyter-widgets/controls",
          "model_module_version": "1.5.0",
          "model_name": "ProgressStyleModel",
          "state": {
            "_model_module": "@jupyter-widgets/controls",
            "_model_module_version": "1.5.0",
            "_model_name": "ProgressStyleModel",
            "_view_count": null,
            "_view_module": "@jupyter-widgets/base",
            "_view_module_version": "1.2.0",
            "_view_name": "StyleView",
            "bar_color": null,
            "description_width": ""
          }
        },
        "b69f5aadcc00450cbe87a20a10661941": {
          "model_module": "@jupyter-widgets/controls",
          "model_module_version": "1.5.0",
          "model_name": "HBoxModel",
          "state": {
            "_dom_classes": [],
            "_model_module": "@jupyter-widgets/controls",
            "_model_module_version": "1.5.0",
            "_model_name": "HBoxModel",
            "_view_count": null,
            "_view_module": "@jupyter-widgets/controls",
            "_view_module_version": "1.5.0",
            "_view_name": "HBoxView",
            "box_style": "",
            "children": [
              "IPY_MODEL_1eeced28c47c4f78acc80488383f118a",
              "IPY_MODEL_86f81bfa761744769f93929ba24c42f3",
              "IPY_MODEL_1b6c8817b2724443a0e40fcb4c10b946"
            ],
            "layout": "IPY_MODEL_809544afa4584e45b0588f9eb17cb1a3"
          }
        },
        "ba5a9a0bd5ca47fd91d508959bb3db18": {
          "model_module": "@jupyter-widgets/controls",
          "model_module_version": "1.5.0",
          "model_name": "DescriptionStyleModel",
          "state": {
            "_model_module": "@jupyter-widgets/controls",
            "_model_module_version": "1.5.0",
            "_model_name": "DescriptionStyleModel",
            "_view_count": null,
            "_view_module": "@jupyter-widgets/base",
            "_view_module_version": "1.2.0",
            "_view_name": "StyleView",
            "description_width": ""
          }
        },
        "c76691b70a374ed895b234543cb3a0bf": {
          "model_module": "@jupyter-widgets/controls",
          "model_module_version": "1.5.0",
          "model_name": "HTMLModel",
          "state": {
            "_dom_classes": [],
            "_model_module": "@jupyter-widgets/controls",
            "_model_module_version": "1.5.0",
            "_model_name": "HTMLModel",
            "_view_count": null,
            "_view_module": "@jupyter-widgets/controls",
            "_view_module_version": "1.5.0",
            "_view_name": "HTMLView",
            "description": "",
            "description_tooltip": null,
            "layout": "IPY_MODEL_214b6be2787b4e2aaad513531f2828e3",
            "placeholder": "​",
            "style": "IPY_MODEL_8751c3ed33ab470bb7655e03d86ab23e",
            "value": "Map: 100%"
          }
        },
        "f35e7b3d90794eaf80625dc9af5bef03": {
          "model_module": "@jupyter-widgets/base",
          "model_module_version": "1.2.0",
          "model_name": "LayoutModel",
          "state": {
            "_model_module": "@jupyter-widgets/base",
            "_model_module_version": "1.2.0",
            "_model_name": "LayoutModel",
            "_view_count": null,
            "_view_module": "@jupyter-widgets/base",
            "_view_module_version": "1.2.0",
            "_view_name": "LayoutView",
            "align_content": null,
            "align_items": null,
            "align_self": null,
            "border": null,
            "bottom": null,
            "display": null,
            "flex": null,
            "flex_flow": null,
            "grid_area": null,
            "grid_auto_columns": null,
            "grid_auto_flow": null,
            "grid_auto_rows": null,
            "grid_column": null,
            "grid_gap": null,
            "grid_row": null,
            "grid_template_areas": null,
            "grid_template_columns": null,
            "grid_template_rows": null,
            "height": null,
            "justify_content": null,
            "justify_items": null,
            "left": null,
            "margin": null,
            "max_height": null,
            "max_width": null,
            "min_height": null,
            "min_width": null,
            "object_fit": null,
            "object_position": null,
            "order": null,
            "overflow": null,
            "overflow_x": null,
            "overflow_y": null,
            "padding": null,
            "right": null,
            "top": null,
            "visibility": null,
            "width": null
          }
        }
      }
    }
  },
  "nbformat": 4,
  "nbformat_minor": 0
}
